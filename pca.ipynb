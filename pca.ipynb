{
 "cells": [
  {
   "cell_type": "markdown",
   "metadata": {},
   "source": [
    "<h1 style=\"color:rgb(0,120,170)\">Machine Learning: Unsupervised Techniques</h1>\n",
    "<h1 style=\"color:rgb(0,120,170)\">PCA</h1>"
   ]
  },
  {
   "cell_type": "markdown",
   "metadata": {},
   "source": [
    "This material, no matter whether in printed or electronic form, may be used for personal and non-commercial educational use only. Any reproduction of this material, no matter whether as a whole or in parts, no matter whether in printed or in electronic form, requires explicit prior acceptance of the authors."
   ]
  },
  {
   "cell_type": "markdown",
   "metadata": {},
   "source": [
    "<h2 style=\"color:rgb(0,120,170)\">Task 1: Implementation of PCA for a standard data set from scratch: </h2>\n",
    "\n",
    "The goal of this task is to implement the PCA algorithm as introduced in the slides by hand. PCA analysis is a powerful tool to identify patterns in data; it is used to find correlations between variables, to determine the directions of maximum variance and project it onto a smaller dimensional subspace that maintains most of the information. To fix the overall notation, we will denote by $n$ the number of samples, by $d$ the number of different features, and $k<d$ the dimension of the space, on which we want to project. We will work with the famous iris dataset which contains measurements for $n=150$ iris flowers from three different classes, namely:\n",
    "\n",
    "* Iris-setosa ($n_{\\textrm{se}}=50$)\n",
    "* Iris-versicolor ($n_{\\textrm{ve}}=50$)\n",
    "* Iris-virginica ($n_{\\textrm{vi}}=50$).\n",
    "\n",
    "Moreover, we have the following $d=4$ features:\n",
    "\n",
    "* sepal length in cm\n",
    "* sepal width in cm\n",
    "* petal length in cm\n",
    "* petal width in cm\n",
    "\n",
    "<img src = \"../../data/iris_with_labels.jpg\">\n",
    "\n",
    "For more information on the dataset go to https://archive.ics.uci.edu/ml/datasets/Iris.\n",
    "\n",
    "In the next step we want to read in the data set using the pandas package."
   ]
  },
  {
   "cell_type": "code",
   "execution_count": 1,
   "metadata": {},
   "outputs": [],
   "source": [
    "# Imports and reading data set. Nothing to do here.\n",
    "import pandas as pd\n",
    "import numpy as np\n",
    "import matplotlib.pyplot as plt\n",
    "import seaborn as sns\n",
    "\n",
    "df = pd.read_csv(\n",
    "    filepath_or_buffer='iris.data', \n",
    "    header=None, \n",
    "    sep=',')\n",
    "\n",
    "df.columns=['sepal_length', 'sepal_width', 'petal_length', 'petal_width', 'class']\n",
    "df.dropna(how=\"all\", inplace=True) # drops the empty line at file-end"
   ]
  },
  {
   "cell_type": "code",
   "execution_count": 2,
   "metadata": {},
   "outputs": [
    {
     "data": {
      "text/html": [
       "<div>\n",
       "<style scoped>\n",
       "    .dataframe tbody tr th:only-of-type {\n",
       "        vertical-align: middle;\n",
       "    }\n",
       "\n",
       "    .dataframe tbody tr th {\n",
       "        vertical-align: top;\n",
       "    }\n",
       "\n",
       "    .dataframe thead th {\n",
       "        text-align: right;\n",
       "    }\n",
       "</style>\n",
       "<table border=\"1\" class=\"dataframe\">\n",
       "  <thead>\n",
       "    <tr style=\"text-align: right;\">\n",
       "      <th></th>\n",
       "      <th>sepal_length</th>\n",
       "      <th>sepal_width</th>\n",
       "      <th>petal_length</th>\n",
       "      <th>petal_width</th>\n",
       "      <th>class</th>\n",
       "    </tr>\n",
       "  </thead>\n",
       "  <tbody>\n",
       "    <tr>\n",
       "      <th>0</th>\n",
       "      <td>5.1</td>\n",
       "      <td>3.5</td>\n",
       "      <td>1.4</td>\n",
       "      <td>0.2</td>\n",
       "      <td>Iris-setosa</td>\n",
       "    </tr>\n",
       "    <tr>\n",
       "      <th>1</th>\n",
       "      <td>4.9</td>\n",
       "      <td>3.0</td>\n",
       "      <td>1.4</td>\n",
       "      <td>0.2</td>\n",
       "      <td>Iris-setosa</td>\n",
       "    </tr>\n",
       "    <tr>\n",
       "      <th>2</th>\n",
       "      <td>4.7</td>\n",
       "      <td>3.2</td>\n",
       "      <td>1.3</td>\n",
       "      <td>0.2</td>\n",
       "      <td>Iris-setosa</td>\n",
       "    </tr>\n",
       "    <tr>\n",
       "      <th>3</th>\n",
       "      <td>4.6</td>\n",
       "      <td>3.1</td>\n",
       "      <td>1.5</td>\n",
       "      <td>0.2</td>\n",
       "      <td>Iris-setosa</td>\n",
       "    </tr>\n",
       "    <tr>\n",
       "      <th>4</th>\n",
       "      <td>5.0</td>\n",
       "      <td>3.6</td>\n",
       "      <td>1.4</td>\n",
       "      <td>0.2</td>\n",
       "      <td>Iris-setosa</td>\n",
       "    </tr>\n",
       "    <tr>\n",
       "      <th>...</th>\n",
       "      <td>...</td>\n",
       "      <td>...</td>\n",
       "      <td>...</td>\n",
       "      <td>...</td>\n",
       "      <td>...</td>\n",
       "    </tr>\n",
       "    <tr>\n",
       "      <th>145</th>\n",
       "      <td>6.7</td>\n",
       "      <td>3.0</td>\n",
       "      <td>5.2</td>\n",
       "      <td>2.3</td>\n",
       "      <td>Iris-virginica</td>\n",
       "    </tr>\n",
       "    <tr>\n",
       "      <th>146</th>\n",
       "      <td>6.3</td>\n",
       "      <td>2.5</td>\n",
       "      <td>5.0</td>\n",
       "      <td>1.9</td>\n",
       "      <td>Iris-virginica</td>\n",
       "    </tr>\n",
       "    <tr>\n",
       "      <th>147</th>\n",
       "      <td>6.5</td>\n",
       "      <td>3.0</td>\n",
       "      <td>5.2</td>\n",
       "      <td>2.0</td>\n",
       "      <td>Iris-virginica</td>\n",
       "    </tr>\n",
       "    <tr>\n",
       "      <th>148</th>\n",
       "      <td>6.2</td>\n",
       "      <td>3.4</td>\n",
       "      <td>5.4</td>\n",
       "      <td>2.3</td>\n",
       "      <td>Iris-virginica</td>\n",
       "    </tr>\n",
       "    <tr>\n",
       "      <th>149</th>\n",
       "      <td>5.9</td>\n",
       "      <td>3.0</td>\n",
       "      <td>5.1</td>\n",
       "      <td>1.8</td>\n",
       "      <td>Iris-virginica</td>\n",
       "    </tr>\n",
       "  </tbody>\n",
       "</table>\n",
       "<p>150 rows × 5 columns</p>\n",
       "</div>"
      ],
      "text/plain": [
       "     sepal_length  sepal_width  petal_length  petal_width           class\n",
       "0             5.1          3.5           1.4          0.2     Iris-setosa\n",
       "1             4.9          3.0           1.4          0.2     Iris-setosa\n",
       "2             4.7          3.2           1.3          0.2     Iris-setosa\n",
       "3             4.6          3.1           1.5          0.2     Iris-setosa\n",
       "4             5.0          3.6           1.4          0.2     Iris-setosa\n",
       "..            ...          ...           ...          ...             ...\n",
       "145           6.7          3.0           5.2          2.3  Iris-virginica\n",
       "146           6.3          2.5           5.0          1.9  Iris-virginica\n",
       "147           6.5          3.0           5.2          2.0  Iris-virginica\n",
       "148           6.2          3.4           5.4          2.3  Iris-virginica\n",
       "149           5.9          3.0           5.1          1.8  Iris-virginica\n",
       "\n",
       "[150 rows x 5 columns]"
      ]
     },
     "execution_count": 2,
     "metadata": {},
     "output_type": "execute_result"
    }
   ],
   "source": [
    "df"
   ]
  },
  {
   "cell_type": "code",
   "execution_count": 3,
   "metadata": {},
   "outputs": [],
   "source": [
    "# Split data table into data X and class labels y. Nothing to do here.\n",
    "X = df.iloc[:,0:4].values\n",
    "y = df.iloc[:,4].values"
   ]
  },
  {
   "cell_type": "markdown",
   "metadata": {},
   "source": [
    "Our iris dataset is now an $n \\times d=150 \\times 4$ matrix $\\mathbf{X}$, where the columns are the different features, and every row is an individual flower sample. Each sample row $\\mathbf{x}_i$ for $1\\le i \\le n=150$ is as a $4$-dimensional vector."
   ]
  },
  {
   "cell_type": "markdown",
   "metadata": {},
   "source": [
    "<h3 style=\"color:rgb(0,120,170)\">Task:</h3>\n",
    "\n",
    "* To get a feeling for how the 3 different flower classes are distributed along the 4 different features, visualize them via histograms."
   ]
  },
  {
   "cell_type": "markdown",
   "metadata": {},
   "source": [
    "<h3 style=\"color:rgb(210,90,80)\">Code (10 points):</h3>"
   ]
  },
  {
   "cell_type": "code",
   "execution_count": 4,
   "metadata": {},
   "outputs": [
    {
     "data": {
      "image/png": "[encoded data removed]",
      "text/plain": [
       "<Figure size 1152x1152 with 4 Axes>"
      ]
     },
     "metadata": {
      "needs_background": "light"
     },
     "output_type": "display_data"
    }
   ],
   "source": [
    "############################\n",
    "# Begin your code\n",
    "fig, ax = plt.subplots(2, 2, figsize=(16, 16))\n",
    "for col, a in zip(df.columns[:-1], ax.flatten()):\n",
    "    a.hist(df.pivot(columns='class')[col], stacked=True, bins=30)\n",
    "    a.legend(df['class'].unique())\n",
    "    a.set_ylabel('count', fontsize=20)\n",
    "    a.set_xlabel(f'{col} in cm', fontsize=20)\n",
    "    a.set_title(f'Histogram: {col}', fontsize=30)\n",
    "# End your code\n",
    "############################"
   ]
  },
  {
   "cell_type": "markdown",
   "metadata": {},
   "source": [
    "As PCA leads to a (sub)space that maximizes the variance along the axes, it makes sense to standardize the data, especially, if they were measured on different scales. We thus transform the data onto unit scale (mean=0 and variance=1), which is needed in many machine learning algorithms."
   ]
  },
  {
   "cell_type": "code",
   "execution_count": 5,
   "metadata": {},
   "outputs": [],
   "source": [
    "#nothing to do here\n",
    "from sklearn.preprocessing import StandardScaler\n",
    "X_std = StandardScaler().fit_transform(X)"
   ]
  },
  {
   "cell_type": "markdown",
   "metadata": {},
   "source": [
    "Next, we compute the covariance matrix $\\mathbf{C}$, which is a $d×d$ matrix (real and symmetric), where each element represents the covariance between two features. $\\mathbf{C}$ can therefore be calculated as follows:\n",
    "$$\n",
    "c_{jk}=\\frac{1}{n-1} \\sum_{i=1}^{n} (x_i^{(j)}-\\overline{x}^{(j)})(x_i^{(k)}-\\overline{x}^{(k)}),\n",
    "$$\n",
    "where $\\overline{x}^{(j)}$ denotes the mean of the $j$-th feature. In matrix notation, this can be expressed as follows:\n",
    "$$\n",
    "\\mathbf{C}=\\frac{1}{n-1}(\\mathbf{X}-\\overline{\\mathbf{x}})^T (\\mathbf{X}-\\overline{\\mathbf{x}}),\n",
    "$$\n",
    "with $\\overline{\\mathbf{x}}= \\frac1n \\sum_{i=1}^{n} \\mathbf{x}_i$ denoting the mean vector. The eigenvectors and eigenvalues of $\\mathbf{C}$ represent the most important part of PCA: The eigenvectors (principal components, German: \"Hauptachsen\") determine the directions of the new feature space, and the eigenvalues contain information about their magnitude. Put differently, the eigenvalues explain the variance of the data along the new feature axes. Computing $\\mathbf{C}$ and its eigendecomposition should therefore be achieved in the following tasks: "
   ]
  },
  {
   "cell_type": "markdown",
   "metadata": {},
   "source": [
    "<h3 style=\"color:rgb(0,120,170)\">Task:</h3>\n",
    "\n",
    "* Using the previous formulas and explanations, implement the covariance matrix for the iris data set and print the result. Don't use the np.cov function. Verify first that all the feature means are zero due to the standardization we did above."
   ]
  },
  {
   "cell_type": "markdown",
   "metadata": {},
   "source": [
    "<h3 style=\"color:rgb(210,90,80)\">Code (5 points):</h3>"
   ]
  },
  {
   "cell_type": "code",
   "execution_count": 6,
   "metadata": {},
   "outputs": [
    {
     "name": "stdout",
     "output_type": "stream",
     "text": [
      "Verified bro!\n",
      "Verified bro!\n",
      "Verified bro!\n",
      "Verified bro!\n"
     ]
    }
   ],
   "source": [
    "for x in range(len(df.columns[:-1])):\n",
    "    if round(X_std[:,x].mean(), 2) <= 0:\n",
    "        print(\"Verified bro!\")\n",
    "    else:\n",
    "        raise ValueError(\"Donkey is too stupid for normalizing\")"
   ]
  },
  {
   "cell_type": "code",
   "execution_count": 7,
   "metadata": {},
   "outputs": [
    {
     "data": {
      "text/plain": [
       "array([[ 1.00671141, -0.11010327,  0.87760486,  0.82344326],\n",
       "       [-0.11010327,  1.00671141, -0.42333835, -0.358937  ],\n",
       "       [ 0.87760486, -0.42333835,  1.00671141,  0.96921855],\n",
       "       [ 0.82344326, -0.358937  ,  0.96921855,  1.00671141]])"
      ]
     },
     "execution_count": 7,
     "metadata": {},
     "output_type": "execute_result"
    }
   ],
   "source": [
    "############################\n",
    "# Begin your code\n",
    "X_cov = X_std.T @ X_std / (len(X_std)-1)\n",
    "X_cov\n",
    "# End your code\n",
    "############################"
   ]
  },
  {
   "cell_type": "markdown",
   "metadata": {},
   "source": [
    "<h3 style=\"color:rgb(0,120,170)\">Task:</h3>\n",
    "\n",
    "* Next, perform an eigendecomposition on the covariance matrix and print the eigenvectors and eigenvalues. You can use whatever method you like."
   ]
  },
  {
   "cell_type": "markdown",
   "metadata": {},
   "source": [
    "<h3 style=\"color:rgb(210,90,80)\">Code (5 points):</h3>"
   ]
  },
  {
   "cell_type": "code",
   "execution_count": 8,
   "metadata": {},
   "outputs": [
    {
     "data": {
      "text/plain": [
       "(array([2.93035378, 0.92740362, 0.14834223, 0.02074601]),\n",
       " array([[ 0.52237162, -0.37231836, -0.72101681,  0.26199559],\n",
       "        [-0.26335492, -0.92555649,  0.24203288, -0.12413481],\n",
       "        [ 0.58125401, -0.02109478,  0.14089226, -0.80115427],\n",
       "        [ 0.56561105, -0.06541577,  0.6338014 ,  0.52354627]]))"
      ]
     },
     "execution_count": 8,
     "metadata": {},
     "output_type": "execute_result"
    }
   ],
   "source": [
    "############################\n",
    "# Begin your code\n",
    "vals, vecs = np.linalg.eig(X_cov)\n",
    "vals, vecs\n",
    "# End your code\n",
    "############################"
   ]
  },
  {
   "cell_type": "markdown",
   "metadata": {},
   "source": [
    "To decide which eigenvector(s) can safely be dropped, we take a more careful look at the corresponding eigenvalues: In order to do so, we rank the eigenvalues from highest to lowest and choose the top $k$ eigenvectors. The eigenvectors with the lowest eigenvalues contain the least information about the distribution of the data; these are the ones we will get rid of."
   ]
  },
  {
   "cell_type": "markdown",
   "metadata": {},
   "source": [
    "<h3 style=\"color:rgb(0,120,170)\">Task:</h3>\n",
    "\n",
    "* Make a list of (eigenvalue, eigenvector) tuples, sort the (eigenvalue, eigenvector) tuples from high to low (with respect to the eigenvalues) and print the tuples in decreasing order to confirm, that the list is correctly sorted. Also check that the eigenvectors are all normalized and all orthogonal to each other."
   ]
  },
  {
   "cell_type": "markdown",
   "metadata": {},
   "source": [
    "<h3 style=\"color:rgb(210,90,80)\">Code (10 points):</h3>"
   ]
  },
  {
   "cell_type": "code",
   "execution_count": 9,
   "metadata": {},
   "outputs": [
    {
     "data": {
      "text/plain": [
       "[(2.9303537755893196,\n",
       "  array([ 0.52237162, -0.26335492,  0.58125401,  0.56561105])),\n",
       " (0.9274036215173425,\n",
       "  array([-0.37231836, -0.92555649, -0.02109478, -0.06541577])),\n",
       " (0.14834222648163978,\n",
       "  array([-0.72101681,  0.24203288,  0.14089226,  0.6338014 ])),\n",
       " (0.020746013995596186,\n",
       "  array([ 0.26199559, -0.12413481, -0.80115427,  0.52354627]))]"
      ]
     },
     "execution_count": 9,
     "metadata": {},
     "output_type": "execute_result"
    }
   ],
   "source": [
    "############################\n",
    "# Begin your code\n",
    "pairs = [(val, vec) for val, vec in zip(vals, vecs.T)]\n",
    "pairs_sorted = sorted(pairs, reverse=True)\n",
    "pairs_sorted\n",
    "# End your code\n",
    "############################"
   ]
  },
  {
   "cell_type": "code",
   "execution_count": 10,
   "metadata": {},
   "outputs": [],
   "source": [
    "# check normalized vectors: magnitude == 1\n",
    "normalized_count = 0\n",
    "for tup in pairs_sorted:\n",
    "    if np.linalg.norm(tup[1])  == 1:\n",
    "        normalized_count += 1\n",
    "        \n",
    "assert normalized_count == len(pairs)"
   ]
  },
  {
   "cell_type": "code",
   "execution_count": null,
   "metadata": {},
   "outputs": [],
   "source": []
  },
  {
   "cell_type": "code",
   "execution_count": 11,
   "metadata": {},
   "outputs": [],
   "source": [
    "# count number of checks needed\n",
    "# 4 vectors = 3 + 2 + 1 = 7 chekcs\n",
    "n = len(pairs_sorted)\n",
    "checks = (n - 1) * n / 2\n",
    "\n",
    "orth_count = 0\n",
    "# check orthogonality dot product with other vectors == 0\n",
    "for x in range(len(pairs_sorted)):\n",
    "    for y in range(x, len(pairs_sorted)):\n",
    "        if y + 1 == len(pairs_sorted):\n",
    "            break\n",
    "        d_product = np.dot(pairs_sorted[x][1], pairs_sorted[y + 1][1])\n",
    "        if (int(round(d_product, 2))) == 0:\n",
    "            orth_count += 1\n",
    "            \n",
    "assert orth_count == checks"
   ]
  },
  {
   "cell_type": "markdown",
   "metadata": {},
   "source": [
    "After sorting the eigenpairs, we ask ourselves, how many principal components we want to have. A useful measure is the so-called \"explained variance\", which can be calculated from the eigenvalues by computing the ratios $\\frac{\\lambda_j}{\\sum_{k=1}^d \\lambda_k}$, where $\\lambda_j$ denotes the $j$-th (sorted) eigenvalue of $\\mathbf{C}$ and $1\\le j \\le d$. The explained variance tells us how much information is contained in each of the principal components. "
   ]
  },
  {
   "cell_type": "markdown",
   "metadata": {},
   "source": [
    "<h3 style=\"color:rgb(0,120,170)\">Task:</h3>\n",
    "\n",
    "* Write a code that computes the explained variance for each eigenvalue of the iris-dataset example and print the result."
   ]
  },
  {
   "cell_type": "markdown",
   "metadata": {},
   "source": [
    "<h3 style=\"color:rgb(210,90,80)\">Code (10 points):</h3>"
   ]
  },
  {
   "cell_type": "code",
   "execution_count": 12,
   "metadata": {},
   "outputs": [
    {
     "data": {
      "text/plain": [
       "array([0.72770452, 0.23030523, 0.03683832, 0.00515193])"
      ]
     },
     "execution_count": 12,
     "metadata": {},
     "output_type": "execute_result"
    }
   ],
   "source": [
    "############################\n",
    "# Begin your code\n",
    "expl_var = vals / vals.sum()\n",
    "expl_var\n",
    "# End your code\n",
    "############################"
   ]
  },
  {
   "cell_type": "markdown",
   "metadata": {},
   "source": [
    "The previous task clearly shows that most of the variance can be explained by the first principal component alone. The second principal component still contains some information, while the third and fourth principal components can safely be neglected. "
   ]
  },
  {
   "cell_type": "markdown",
   "metadata": {},
   "source": [
    "Next, we come to the construction of the $d \\times k$ transformation (and projection) matrix $\\mathbf{W}$ that will be used to transform the Iris data onto the new (and smaller) feature subspace. It basically just consists of the first $k$ eigenvectors. In our Iris dataset example, we choose to reduce the $4$-dimensional feature space to a $k=2$ dimensional one.\n",
    "\n",
    "In the final, step we will use $\\mathbf{W}$ to transform our samples onto the new subspace via the equation\n",
    "$\\mathbf{Y}=\\mathbf{X}\\,\\mathbf{W}$, where $\\mathbf{Y}$ is now an $n \\times k$ matrix (i.e. $150 \\times 2$ in our case)."
   ]
  },
  {
   "cell_type": "markdown",
   "metadata": {},
   "source": [
    "<h3 style=\"color:rgb(0,120,170)\">Task:</h3>\n",
    "\n",
    "* Write a code that computes the transformation matrix $\\mathbf{W}$ and the new representation matrix $\\mathbf{Y}$ for the Iris data set and print the results."
   ]
  },
  {
   "cell_type": "markdown",
   "metadata": {},
   "source": [
    "<h3 style=\"color:rgb(210,90,80)\">Code (10 points):</h3>"
   ]
  },
  {
   "cell_type": "code",
   "execution_count": 13,
   "metadata": {},
   "outputs": [
    {
     "data": {
      "text/plain": [
       "array([[-2.26454173e+00, -5.05703903e-01],\n",
       "       [-2.08642550e+00,  6.55404729e-01],\n",
       "       [-2.36795045e+00,  3.18477311e-01],\n",
       "       [-2.30419716e+00,  5.75367713e-01],\n",
       "       [-2.38877749e+00, -6.74767397e-01],\n",
       "       [-2.07053681e+00, -1.51854856e+00],\n",
       "       [-2.44571134e+00, -7.45626750e-02],\n",
       "       [-2.23384186e+00, -2.47613932e-01],\n",
       "       [-2.34195768e+00,  1.09514636e+00],\n",
       "       [-2.18867576e+00,  4.48629048e-01],\n",
       "       [-2.16348656e+00, -1.07059558e+00],\n",
       "       [-2.32737775e+00, -1.58587455e-01],\n",
       "       [-2.22408272e+00,  7.09118158e-01],\n",
       "       [-2.63971626e+00,  9.38281982e-01],\n",
       "       [-2.19229151e+00, -1.88997851e+00],\n",
       "       [-2.25146521e+00, -2.72237108e+00],\n",
       "       [-2.20275048e+00, -1.51375028e+00],\n",
       "       [-2.19017916e+00, -5.14304308e-01],\n",
       "       [-1.89407429e+00, -1.43111071e+00],\n",
       "       [-2.33994907e+00, -1.15803343e+00],\n",
       "       [-1.91455639e+00, -4.30465163e-01],\n",
       "       [-2.20464540e+00, -9.52457317e-01],\n",
       "       [-2.77416979e+00, -4.89517027e-01],\n",
       "       [-1.82041156e+00, -1.06750793e-01],\n",
       "       [-2.22821750e+00, -1.62186163e-01],\n",
       "       [-1.95702401e+00,  6.07892567e-01],\n",
       "       [-2.05206331e+00, -2.66014312e-01],\n",
       "       [-2.16819365e+00, -5.52016495e-01],\n",
       "       [-2.14030596e+00, -3.36640409e-01],\n",
       "       [-2.26879019e+00,  3.14878603e-01],\n",
       "       [-2.14455443e+00,  4.83942097e-01],\n",
       "       [-1.83193810e+00, -4.45266836e-01],\n",
       "       [-2.60820287e+00, -1.82847519e+00],\n",
       "       [-2.43795086e+00, -2.18539162e+00],\n",
       "       [-2.18867576e+00,  4.48629048e-01],\n",
       "       [-2.21111990e+00,  1.84337811e-01],\n",
       "       [-2.04441652e+00, -6.84956426e-01],\n",
       "       [-2.18867576e+00,  4.48629048e-01],\n",
       "       [-2.43595220e+00,  8.82169415e-01],\n",
       "       [-2.17054720e+00, -2.92726955e-01],\n",
       "       [-2.28652724e+00, -4.67991716e-01],\n",
       "       [-1.87170722e+00,  2.32769161e+00],\n",
       "       [-2.55783442e+00,  4.53816380e-01],\n",
       "       [-1.96427929e+00, -4.97391640e-01],\n",
       "       [-2.13337283e+00, -1.17143211e+00],\n",
       "       [-2.07535759e+00,  6.91917347e-01],\n",
       "       [-2.38125822e+00, -1.15063259e+00],\n",
       "       [-2.39819169e+00,  3.62390765e-01],\n",
       "       [-2.22678121e+00, -1.02548255e+00],\n",
       "       [-2.20595417e+00, -3.22378453e-02],\n",
       "       [ 1.10399365e+00, -8.63112446e-01],\n",
       "       [ 7.32481440e-01, -5.98635573e-01],\n",
       "       [ 1.24210951e+00, -6.14822450e-01],\n",
       "       [ 3.97307283e-01,  1.75816895e+00],\n",
       "       [ 1.07259395e+00,  2.11757903e-01],\n",
       "       [ 3.84458146e-01,  5.91062469e-01],\n",
       "       [ 7.48715076e-01, -7.78698611e-01],\n",
       "       [-4.97863388e-01,  1.84886877e+00],\n",
       "       [ 9.26222368e-01, -3.03308268e-02],\n",
       "       [ 4.96802558e-03,  1.02940111e+00],\n",
       "       [-1.24697461e-01,  2.65806268e+00],\n",
       "       [ 4.38730118e-01,  5.88812850e-02],\n",
       "       [ 5.51633981e-01,  1.77258156e+00],\n",
       "       [ 7.17165066e-01,  1.85434315e-01],\n",
       "       [-3.72583830e-02,  4.32795099e-01],\n",
       "       [ 8.75890536e-01, -5.09998151e-01],\n",
       "       [ 3.48006402e-01,  1.90621647e-01],\n",
       "       [ 1.53392545e-01,  7.90725456e-01],\n",
       "       [ 1.21530321e+00,  1.63335564e+00],\n",
       "       [ 1.56941176e-01,  1.30310327e+00],\n",
       "       [ 7.38256104e-01, -4.02470382e-01],\n",
       "       [ 4.72369682e-01,  4.16608222e-01],\n",
       "       [ 1.22798821e+00,  9.40914793e-01],\n",
       "       [ 6.29381045e-01,  4.16811643e-01],\n",
       "       [ 7.00472799e-01,  6.34939277e-02],\n",
       "       [ 8.73536987e-01, -2.50708611e-01],\n",
       "       [ 1.25422219e+00,  8.26200998e-02],\n",
       "       [ 1.35823985e+00, -3.28820266e-01],\n",
       "       [ 6.62126138e-01,  2.24346071e-01],\n",
       "       [-4.72815133e-02,  1.05721241e+00],\n",
       "       [ 1.21534209e-01,  1.56359238e+00],\n",
       "       [ 1.41182261e-02,  1.57339235e+00],\n",
       "       [ 2.36010837e-01,  7.75923784e-01],\n",
       "       [ 1.05669143e+00,  6.36901284e-01],\n",
       "       [ 2.21417088e-01,  2.80847693e-01],\n",
       "       [ 4.31783161e-01, -8.55136920e-01],\n",
       "       [ 1.04941336e+00, -5.22197265e-01],\n",
       "       [ 1.03587821e+00,  1.39246648e+00],\n",
       "       [ 6.70675999e-02,  2.12620735e-01],\n",
       "       [ 2.75425066e-01,  1.32981591e+00],\n",
       "       [ 2.72335066e-01,  1.11944152e+00],\n",
       "       [ 6.23170540e-01, -2.75426333e-02],\n",
       "       [ 3.30005364e-01,  9.88900732e-01],\n",
       "       [-3.73627623e-01,  2.01793227e+00],\n",
       "       [ 2.82944343e-01,  8.53950717e-01],\n",
       "       [ 8.90531103e-02,  1.74908548e-01],\n",
       "       [ 2.24356783e-01,  3.80484659e-01],\n",
       "       [ 5.73883486e-01,  1.53719974e-01],\n",
       "       [-4.57012873e-01,  1.53946451e+00],\n",
       "       [ 2.52244473e-01,  5.95860746e-01],\n",
       "       [ 1.84767259e+00, -8.71696662e-01],\n",
       "       [ 1.15318981e+00,  7.01326114e-01],\n",
       "       [ 2.20634950e+00, -5.54470105e-01],\n",
       "       [ 1.43868540e+00,  5.00105223e-02],\n",
       "       [ 1.86789070e+00, -2.91192802e-01],\n",
       "       [ 2.75419671e+00, -7.88432206e-01],\n",
       "       [ 3.58374475e-01,  1.56009458e+00],\n",
       "       [ 2.30300590e+00, -4.09516695e-01],\n",
       "       [ 2.00173530e+00,  7.23865359e-01],\n",
       "       [ 2.26755460e+00, -1.92144299e+00],\n",
       "       [ 1.36590943e+00, -6.93948040e-01],\n",
       "       [ 1.59906459e+00,  4.28248836e-01],\n",
       "       [ 1.88425185e+00, -4.14332758e-01],\n",
       "       [ 1.25308651e+00,  1.16739134e+00],\n",
       "       [ 1.46406152e+00,  4.44147569e-01],\n",
       "       [ 1.59180930e+00, -6.77035372e-01],\n",
       "       [ 1.47128019e+00, -2.53192472e-01],\n",
       "       [ 2.43737848e+00, -2.55675734e+00],\n",
       "       [ 3.30914118e+00,  2.36132010e-03],\n",
       "       [ 1.25398099e+00,  1.71758384e+00],\n",
       "       [ 2.04049626e+00, -9.07398765e-01],\n",
       "       [ 9.73915114e-01,  5.71174376e-01],\n",
       "       [ 2.89806444e+00, -3.97791359e-01],\n",
       "       [ 1.32919369e+00,  4.86760542e-01],\n",
       "       [ 1.70424071e+00, -1.01414842e+00],\n",
       "       [ 1.95772766e+00, -1.00333452e+00],\n",
       "       [ 1.17190451e+00,  3.18896617e-01],\n",
       "       [ 1.01978105e+00, -6.55429631e-02],\n",
       "       [ 1.78600886e+00,  1.93272800e-01],\n",
       "       [ 1.86477791e+00, -5.55381532e-01],\n",
       "       [ 2.43549739e+00, -2.46654468e-01],\n",
       "       [ 2.31608241e+00, -2.62618387e+00],\n",
       "       [ 1.86037143e+00,  1.84672394e-01],\n",
       "       [ 1.11127173e+00,  2.95986102e-01],\n",
       "       [ 1.19746916e+00,  8.17167742e-01],\n",
       "       [ 2.80094940e+00, -8.44748194e-01],\n",
       "       [ 1.58015525e+00, -1.07247450e+00],\n",
       "       [ 1.34704442e+00, -4.22255966e-01],\n",
       "       [ 9.23432978e-01, -1.92303705e-02],\n",
       "       [ 1.85355198e+00, -6.72422729e-01],\n",
       "       [ 2.01615720e+00, -6.10397038e-01],\n",
       "       [ 1.90311686e+00, -6.86024832e-01],\n",
       "       [ 1.15318981e+00,  7.01326114e-01],\n",
       "       [ 2.04330844e+00, -8.64684880e-01],\n",
       "       [ 2.00169097e+00, -1.04855005e+00],\n",
       "       [ 1.87052207e+00, -3.82821838e-01],\n",
       "       [ 1.55849189e+00,  9.05313601e-01],\n",
       "       [ 1.52084506e+00, -2.66794575e-01],\n",
       "       [ 1.37639119e+00, -1.01636193e+00],\n",
       "       [ 9.59298576e-01,  2.22839447e-02]])"
      ]
     },
     "execution_count": 13,
     "metadata": {},
     "output_type": "execute_result"
    }
   ],
   "source": [
    "############################\n",
    "# Begin your code\n",
    "projected_1 = np.dot(X_std, pairs_sorted[0][1])\n",
    "projected_2 = np.dot(X_std, pairs_sorted[1][1])\n",
    "Y = np.stack((projected_1, projected_2), axis=1) \n",
    "Y\n",
    "# End your code\n",
    "############################"
   ]
  },
  {
   "cell_type": "markdown",
   "metadata": {},
   "source": [
    "All the steps that we did so far can be also done with the following implemented algorithm from the sklearn package. The previously computed matrix $\\mathbf{Y}$ should match $\\mathbf{Y}_\\textrm{sklearn}$ from the following code. Note that signs (of individual components) might differ. This is because the directions of the eigenvectors are not fixed and different methods may make different choices."
   ]
  },
  {
   "cell_type": "code",
   "execution_count": 17,
   "metadata": {},
   "outputs": [
    {
     "name": "stdout",
     "output_type": "stream",
     "text": [
      "(150, 4)\n"
     ]
    }
   ],
   "source": [
    "#nothing to do here\n",
    "from sklearn.decomposition import PCA as sklearnPCA\n",
    "sklearn_pca = sklearnPCA()\n",
    "Y_sklearn = sklearn_pca.fit_transform(X_std)\n",
    "print(Y_sklearn.shape)"
   ]
  },
  {
   "cell_type": "markdown",
   "metadata": {},
   "source": [
    "* As a final step, we provide a visualization of the data in the new coordinate system, consisting of the first two principal components as axes. It should be clearly visible how the different classes are well seperated also in this smaller subspace. The self-implementation and sklearn method should lead to the same results (apart from potential flip of axes directions)."
   ]
  },
  {
   "cell_type": "code",
   "execution_count": 15,
   "metadata": {},
   "outputs": [
    {
     "data": {
      "image/png": "[encoded data removed]",
      "text/plain": [
       "<Figure size 432x288 with 1 Axes>"
      ]
     },
     "metadata": {
      "needs_background": "light"
     },
     "output_type": "display_data"
    },
    {
     "data": {
      "image/png": "[encoded data removed]",
      "text/plain": [
       "<Figure size 432x288 with 1 Axes>"
      ]
     },
     "metadata": {
      "needs_background": "light"
     },
     "output_type": "display_data"
    }
   ],
   "source": [
    "#nothing to do here\n",
    "X = df.iloc[:,0:4].values\n",
    "y = df.iloc[:,4].values\n",
    "classes = list(set(y))\n",
    "\n",
    "colors = sns.color_palette(n_colors=len(classes)).as_hex()\n",
    "\n",
    "for index,c in enumerate(classes):\n",
    "        plt.scatter(Y[y==c,0], Y[y==c,1], color=colors[index], label=c)\n",
    "plt.xlabel(\"PC1\")\n",
    "plt.ylabel(\"PC2\")\n",
    "plt.title(\"Downprojected data (self-implementation)\")\n",
    "plt.legend()\n",
    "plt.show()\n",
    "\n",
    "for index,c in enumerate(classes):\n",
    "        plt.scatter(Y_sklearn[y==c,0], Y_sklearn[y==c,1], color=colors[index], label=c)\n",
    "plt.xlabel(\"PC1\")\n",
    "plt.ylabel(\"PC2\")\n",
    "plt.title(\"Downprojected data (using sklearn)\")\n",
    "plt.legend()\n",
    "plt.show()"
   ]
  }
 ],
 "metadata": {
  "kernelspec": {
   "display_name": "Python 3 (ipykernel)",
   "language": "python",
   "name": "python3"
  },
  "language_info": {
   "codemirror_mode": {
    "name": "ipython",
    "version": 3
   },
   "file_extension": ".py",
   "mimetype": "text/x-python",
   "name": "python",
   "nbconvert_exporter": "python",
   "pygments_lexer": "ipython3",
   "version": "3.7.9"
  }
 },
 "nbformat": 4,
 "nbformat_minor": 4
}
